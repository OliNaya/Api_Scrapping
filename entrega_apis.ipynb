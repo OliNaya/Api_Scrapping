{
 "cells": [
  {
   "cell_type": "markdown",
   "id": "4ceec1dc-8964-4e06-b8d2-982f6e576a5f",
   "metadata": {},
   "source": [
    "### EXERCICIOS APIS\n",
    "\n"
   ]
  },
  {
   "cell_type": "code",
   "execution_count": 2,
   "id": "2dd8eefe-48db-4e6e-8387-47b757b450aa",
   "metadata": {},
   "outputs": [],
   "source": [
    "#importa as librerias necesarias para traballar con apis \n"
   ]
  },
  {
   "cell_type": "code",
   "execution_count": 1,
   "id": "2bd27040-1e55-432e-b9f4-8fb53f25147c",
   "metadata": {},
   "outputs": [],
   "source": []
  },
  {
   "cell_type": "code",
   "execution_count": null,
   "id": "c5f12e46-5a85-4a2f-8185-457ff7912469",
   "metadata": {},
   "outputs": [],
   "source": [
    "#vamos a consultar unha api sobre a predicción meteoroloxica\n",
    "#https://www.el-tiempo.net/api/json/v2/home"
   ]
  },
  {
   "cell_type": "code",
   "execution_count": null,
   "id": "139d0cfb-24db-4877-98fb-57cde5701606",
   "metadata": {},
   "outputs": [],
   "source": [
    "# Configura o endpoint\n",
    "# Verifica o estado da resposta e explica o tipo de codigo"
   ]
  },
  {
   "cell_type": "code",
   "execution_count": null,
   "id": "4dd48b00-9ba0-4353-a959-14d0aea3df88",
   "metadata": {},
   "outputs": [],
   "source": []
  },
  {
   "cell_type": "code",
   "execution_count": null,
   "id": "8258e7fc-6e8e-4f72-9e67-51ce9c6335f5",
   "metadata": {},
   "outputs": [],
   "source": [
    "#provoca que fallo na peticion "
   ]
  },
  {
   "cell_type": "code",
   "execution_count": null,
   "id": "57008a1c-2590-4776-8db7-2cdd81f5b75e",
   "metadata": {},
   "outputs": [],
   "source": []
  },
  {
   "cell_type": "code",
   "execution_count": 12,
   "id": "62d5e2af-cddb-4e03-9730-6c8cfd861dfa",
   "metadata": {},
   "outputs": [],
   "source": [
    "# Comproba o tipo de servidor que está detrás da API e o tipo de contido"
   ]
  },
  {
   "cell_type": "code",
   "execution_count": null,
   "id": "853703c1-bd3c-4763-ab17-0f33362cab74",
   "metadata": {},
   "outputs": [],
   "source": []
  },
  {
   "cell_type": "code",
   "execution_count": null,
   "id": "969a2e2a-675d-4ba9-8e98-b592401cd824",
   "metadata": {},
   "outputs": [],
   "source": [
    "\n"
   ]
  },
  {
   "cell_type": "code",
   "execution_count": null,
   "id": "0af8f05c-ceac-4bb0-83bc-74a3e0394f2a",
   "metadata": {},
   "outputs": [],
   "source": [
    "#Consulta a superficie de Manrresa(Provincia de Barcelona) "
   ]
  },
  {
   "cell_type": "code",
   "execution_count": null,
   "id": "f30f6639-a20d-4f67-994c-e26cba8815b4",
   "metadata": {},
   "outputs": [],
   "source": []
  },
  {
   "cell_type": "code",
   "execution_count": null,
   "id": "03de5178-cbc2-4e62-9f6c-cb79c8efb23a",
   "metadata": {},
   "outputs": [],
   "source": [
    "#compara con Alcala de Henares(Provincia de Madrid)"
   ]
  },
  {
   "cell_type": "code",
   "execution_count": null,
   "id": "1014a038-7e3b-4576-a21d-7306b17251a4",
   "metadata": {},
   "outputs": [],
   "source": []
  },
  {
   "cell_type": "code",
   "execution_count": null,
   "id": "c1618181-9b9e-4969-8433-ea9e3d1edf6b",
   "metadata": {},
   "outputs": [],
   "source": [
    "#Crea un dataFrame para mostraros datos "
   ]
  },
  {
   "cell_type": "code",
   "execution_count": null,
   "id": "9d5f56d8-44ee-4dad-86f9-694aaee70ebd",
   "metadata": {},
   "outputs": [],
   "source": []
  },
  {
   "cell_type": "code",
   "execution_count": null,
   "id": "4aebf1e3-ee1d-4f2b-96d0-d13c3e1966e3",
   "metadata": {},
   "outputs": [],
   "source": [
    "#Crear un dataFrame cas temperaturas do concello de Algadefe na provincia de Leon"
   ]
  },
  {
   "cell_type": "code",
   "execution_count": null,
   "id": "1e8f8617-4ea1-44b2-b914-a71374d59983",
   "metadata": {},
   "outputs": [],
   "source": [
    "\n",
    "\n"
   ]
  },
  {
   "cell_type": "code",
   "execution_count": 45,
   "id": "6079c032-1b94-4ee8-809c-09a86dcebdb5",
   "metadata": {},
   "outputs": [],
   "source": [
    "# Agora vamos consultar a api da NASA \n",
    "#url  = 'https://api.nasa.gov/planetary/apod?'\n",
    "#¿Esta api require autentificación? Mostra o mensaje de error "
   ]
  },
  {
   "cell_type": "code",
   "execution_count": null,
   "id": "a2accc6b-d0bd-4859-afd6-42e7504caf5c",
   "metadata": {},
   "outputs": [],
   "source": [
    "\n"
   ]
  },
  {
   "cell_type": "code",
   "execution_count": 46,
   "id": "8dc868b6-805d-4ec6-bf66-16cbda7f20aa",
   "metadata": {},
   "outputs": [],
   "source": [
    "#Accede o total de horas de sol requeridas para Marte \n",
    "#url='https://api.nasa.gov/insight_weather/?"
   ]
  },
  {
   "cell_type": "code",
   "execution_count": null,
   "id": "8f9da18f-0d4a-459c-a110-b23fe768efc2",
   "metadata": {},
   "outputs": [],
   "source": []
  },
  {
   "cell_type": "code",
   "execution_count": 47,
   "id": "8c67e639-ed26-4541-8cfe-2503b6e7b5b8",
   "metadata": {},
   "outputs": [],
   "source": [
    "#Usa a api da NASA para ver nunha determinada datas o acercamento de asteroides de entre 2021/01/01 e o 2021/01/07 obten o absolute_magnitude_h para ese intervalo de datas na hora cero\n",
    "\n",
    "#url:https://api.nasa.gov/neo/rest/v1/feed?start_date=START_DATE&end_date=END_DATE&api_key=API_KEY "
   ]
  },
  {
   "cell_type": "code",
   "execution_count": null,
   "id": "c1da9b64-4f05-4117-8e13-e6027070ff26",
   "metadata": {},
   "outputs": [],
   "source": []
  },
  {
   "cell_type": "code",
   "execution_count": null,
   "id": "be71e23c-d15f-4ee8-a45a-f9a846b87513",
   "metadata": {},
   "outputs": [],
   "source": [
    "#crea un DataFrame cos datos anteriores"
   ]
  },
  {
   "cell_type": "code",
   "execution_count": null,
   "id": "15d9a20b-89c6-4064-84b2-d21cac696863",
   "metadata": {},
   "outputs": [],
   "source": []
  },
  {
   "cell_type": "code",
   "execution_count": null,
   "id": "ac7a2ee5-8e05-4caf-a656-fded219bcad4",
   "metadata": {},
   "outputs": [],
   "source": []
  },
  {
   "cell_type": "code",
   "execution_count": null,
   "id": "1d8d9502-b583-42fd-9e65-49a7a96342f7",
   "metadata": {},
   "outputs": [],
   "source": []
  },
  {
   "cell_type": "code",
   "execution_count": null,
   "id": "9962ac5c-96c0-4815-9203-3582245f5fbd",
   "metadata": {},
   "outputs": [],
   "source": []
  },
  {
   "cell_type": "code",
   "execution_count": null,
   "id": "80adcf5d-353f-40d0-93e1-84468c270b19",
   "metadata": {},
   "outputs": [],
   "source": []
  },
  {
   "cell_type": "code",
   "execution_count": null,
   "id": "29da7977-1ee8-432a-8597-e42158cf917b",
   "metadata": {},
   "outputs": [],
   "source": []
  },
  {
   "cell_type": "code",
   "execution_count": 1,
   "id": "88d1b7bb-8a19-42d1-a1be-b4b0fafc8991",
   "metadata": {},
   "outputs": [],
   "source": []
  },
  {
   "cell_type": "code",
   "execution_count": 2,
   "id": "8ef0c313-cac4-4c7f-80a1-f5b8bf09e063",
   "metadata": {},
   "outputs": [],
   "source": []
  },
  {
   "cell_type": "code",
   "execution_count": null,
   "id": "a72657be-eef3-4b2e-9ddf-f22f1adb22c4",
   "metadata": {},
   "outputs": [],
   "source": []
  },
  {
   "cell_type": "code",
   "execution_count": null,
   "id": "e9915a2e-e6d6-4ffa-9436-5dc706acb57b",
   "metadata": {},
   "outputs": [],
   "source": []
  },
  {
   "cell_type": "code",
   "execution_count": null,
   "id": "c16232a2-d28a-4908-83e7-2e14451e4035",
   "metadata": {},
   "outputs": [],
   "source": []
  },
  {
   "cell_type": "code",
   "execution_count": null,
   "id": "eec110fa-38da-47da-9bf3-bc195eda3b00",
   "metadata": {},
   "outputs": [],
   "source": []
  },
  {
   "cell_type": "code",
   "execution_count": null,
   "id": "6691d17a-ec90-4343-897d-2dbb31559a3e",
   "metadata": {},
   "outputs": [],
   "source": []
  },
  {
   "cell_type": "code",
   "execution_count": null,
   "id": "df7c522e-bc74-4de7-83c0-9e76596efc23",
   "metadata": {},
   "outputs": [],
   "source": []
  },
  {
   "cell_type": "code",
   "execution_count": null,
   "id": "1fb55d62-1932-42bf-80c6-77df6e8f092a",
   "metadata": {},
   "outputs": [],
   "source": []
  },
  {
   "cell_type": "code",
   "execution_count": null,
   "id": "e292bfb0-68ae-4893-b1cb-abff7f9769a0",
   "metadata": {},
   "outputs": [],
   "source": []
  },
  {
   "cell_type": "code",
   "execution_count": null,
   "id": "a0f5ec36-b5c1-4a40-b570-b84c0d797f1b",
   "metadata": {},
   "outputs": [],
   "source": []
  },
  {
   "cell_type": "code",
   "execution_count": null,
   "id": "488d4529-3884-4b54-9ca3-73b1430446a4",
   "metadata": {},
   "outputs": [],
   "source": []
  },
  {
   "cell_type": "code",
   "execution_count": null,
   "id": "8b327370-8806-42ef-a3f1-5747997da4fb",
   "metadata": {},
   "outputs": [],
   "source": []
  },
  {
   "cell_type": "code",
   "execution_count": null,
   "id": "efa11817-b134-4f24-a7a9-dd582dea965c",
   "metadata": {},
   "outputs": [],
   "source": []
  },
  {
   "cell_type": "code",
   "execution_count": null,
   "id": "aa542f9c-7bf4-4770-be0e-d9ff3b098308",
   "metadata": {},
   "outputs": [],
   "source": []
  },
  {
   "cell_type": "code",
   "execution_count": null,
   "id": "55c7ac27-9465-43ae-bbcd-4a12f06b7ba6",
   "metadata": {},
   "outputs": [],
   "source": []
  },
  {
   "cell_type": "code",
   "execution_count": null,
   "id": "80be93f9-00e1-4cd4-9fa5-1260fa008193",
   "metadata": {},
   "outputs": [],
   "source": [
    "\n"
   ]
  },
  {
   "cell_type": "code",
   "execution_count": null,
   "id": "d050b1e3-f491-440b-99ee-d2f4aece9b2b",
   "metadata": {},
   "outputs": [],
   "source": []
  },
  {
   "cell_type": "code",
   "execution_count": null,
   "id": "5c2e45f8-3293-422f-8601-a4964800f98d",
   "metadata": {},
   "outputs": [],
   "source": []
  },
  {
   "cell_type": "code",
   "execution_count": null,
   "id": "12ed61bc-4304-4d70-9921-8d1af67ff587",
   "metadata": {},
   "outputs": [],
   "source": [
    "# Recapitulando:\n",
    "# Query String Parámeters para configurar peticións GET\n",
    "# Request Headers para configurar peticións GET\n",
    "# Autenticación mediante parámetros\n",
    "# Autenticación mediante headers"
   ]
  }
 ],
 "metadata": {
  "kernelspec": {
   "display_name": "Python 3 (ipykernel)",
   "language": "python",
   "name": "python3"
  },
  "language_info": {
   "codemirror_mode": {
    "name": "ipython",
    "version": 3
   },
   "file_extension": ".py",
   "mimetype": "text/x-python",
   "name": "python",
   "nbconvert_exporter": "python",
   "pygments_lexer": "ipython3",
   "version": "3.9.7"
  }
 },
 "nbformat": 4,
 "nbformat_minor": 5
}
