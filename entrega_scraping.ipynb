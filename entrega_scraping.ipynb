{
 "cells": [
  {
   "cell_type": "markdown",
   "id": "4c398a3e-1913-489a-bc60-0c68a3fb1595",
   "metadata": {},
   "source": [
    "### Ejercicios scraping"
   ]
  },
  {
   "cell_type": "code",
   "execution_count": null,
   "id": "ec23e9a9-8210-4034-9da7-d38bf2927710",
   "metadata": {},
   "outputs": [],
   "source": [
    "# Importa as librarías necesarias para as tarefas de scraping\n"
   ]
  },
  {
   "cell_type": "code",
   "execution_count": null,
   "id": "d3696a55-af80-4ae4-a860-0f6c9c13ffe5",
   "metadata": {},
   "outputs": [],
   "source": [
    "\n",
    "\n"
   ]
  },
  {
   "cell_type": "code",
   "execution_count": null,
   "id": "d1c0a347-facb-4be6-9a43-1bd658511eea",
   "metadata": {},
   "outputs": [],
   "source": [
    "#Scrapea a pagina de sensacine para obter o nomes da pelicula e data de estreno dos estreos mais esperados.\n",
    "#https://www.sensacine.com/"
   ]
  },
  {
   "cell_type": "code",
   "execution_count": null,
   "id": "dbe70d4e-f62a-4c16-a9a9-d38d637ee2b5",
   "metadata": {},
   "outputs": [],
   "source": []
  },
  {
   "cell_type": "code",
   "execution_count": null,
   "id": "6599aaad-761d-4c20-9f2c-1a19d83929d3",
   "metadata": {},
   "outputs": [],
   "source": [
    "#Crear un dataFrame cos datos obtidos "
   ]
  },
  {
   "cell_type": "code",
   "execution_count": null,
   "id": "2c1a7a84-b4fe-4bd1-8ae2-2a1f40741ad1",
   "metadata": {},
   "outputs": [],
   "source": []
  },
  {
   "cell_type": "code",
   "execution_count": null,
   "id": "274d097d-f1cb-41c6-bc9c-95140e90b23c",
   "metadata": {},
   "outputs": [],
   "source": []
  },
  {
   "cell_type": "code",
   "execution_count": null,
   "id": "e3796ac6-eb54-4b50-bb98-7beaf3002363",
   "metadata": {},
   "outputs": [],
   "source": [
    "#Obten da paxina gastronomia de galicia o nome de todas as receitas de Marisco e crea con elas un DataFrame\n",
    "#http://www.gastronomiadegalicia.com/v_portal/apartados/apartado.asp?te=499"
   ]
  },
  {
   "cell_type": "code",
   "execution_count": null,
   "id": "5b4b3dbd-802b-42b0-8b29-d8e5f519bf1e",
   "metadata": {},
   "outputs": [],
   "source": []
  },
  {
   "cell_type": "code",
   "execution_count": 119,
   "id": "bb269175-eb90-4774-86c7-18c149859c2f",
   "metadata": {},
   "outputs": [],
   "source": [
    "#Scrapea a siguiente web:\n",
    "#Mostra os atributos da tabla\n"
   ]
  },
  {
   "cell_type": "code",
   "execution_count": null,
   "id": "9f0324cb-aa32-4cb5-ba47-832f90b35593",
   "metadata": {},
   "outputs": [],
   "source": []
  },
  {
   "cell_type": "code",
   "execution_count": 120,
   "id": "581e4610-8f23-4b2c-bd59-da24cb094700",
   "metadata": {},
   "outputs": [],
   "source": [
    "#Muestra solo o valor de summary"
   ]
  },
  {
   "cell_type": "code",
   "execution_count": null,
   "id": "a2c9e9d0-d64f-4423-b615-c248a7b59183",
   "metadata": {},
   "outputs": [],
   "source": []
  },
  {
   "cell_type": "code",
   "execution_count": 121,
   "id": "b2b626a2-344e-4cb3-be65-0175f584a5d6",
   "metadata": {},
   "outputs": [],
   "source": [
    "#Da tabla que hay na web crea unha lista cos invertebrados e os seus valores"
   ]
  },
  {
   "cell_type": "code",
   "execution_count": null,
   "id": "0438291e-1850-426f-8c0c-5eb863c437a2",
   "metadata": {},
   "outputs": [],
   "source": [
    "\n"
   ]
  },
  {
   "cell_type": "code",
   "execution_count": 108,
   "id": "319da4cd-3bb4-4243-ba9d-44f6d63d438f",
   "metadata": {},
   "outputs": [],
   "source": [
    "#Scrapea a seguinte paxina e reproduce  a tabla de listas de patrons que se atopa o final da mesma \n",
    "#url = 'https://www.miteco.gob.es/es/biodiversidad/servicios/banco-datos-naturaleza/informacion-disponible/BDN_listas_patron.aspx'\n"
   ]
  },
  {
   "cell_type": "code",
   "execution_count": null,
   "id": "aaf84251-8e16-4586-bbd2-b188603941eb",
   "metadata": {},
   "outputs": [],
   "source": [
    "\n",
    "\n"
   ]
  },
  {
   "cell_type": "code",
   "execution_count": null,
   "id": "450d9e2f-a20e-47bb-aacb-3ee972f877ec",
   "metadata": {},
   "outputs": [],
   "source": [
    "\n"
   ]
  },
  {
   "cell_type": "code",
   "execution_count": null,
   "id": "199eee0c-d735-43d8-9c5c-254b9bbd9b42",
   "metadata": {},
   "outputs": [],
   "source": []
  },
  {
   "cell_type": "code",
   "execution_count": null,
   "id": "64e352c1-3b49-4560-980a-969f7f38002e",
   "metadata": {},
   "outputs": [],
   "source": [
    "\n"
   ]
  },
  {
   "cell_type": "code",
   "execution_count": null,
   "id": "b98c49c9-4a66-498d-9513-121a3aa1ea90",
   "metadata": {},
   "outputs": [],
   "source": []
  }
 ],
 "metadata": {
  "kernelspec": {
   "display_name": "Python 3",
   "language": "python",
   "name": "python3"
  },
  "language_info": {
   "codemirror_mode": {
    "name": "ipython",
    "version": 3
   },
   "file_extension": ".py",
   "mimetype": "text/x-python",
   "name": "python",
   "nbconvert_exporter": "python",
   "pygments_lexer": "ipython3",
   "version": "3.8.8"
  }
 },
 "nbformat": 4,
 "nbformat_minor": 5
}
