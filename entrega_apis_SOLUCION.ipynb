{
 "cells": [
  {
   "cell_type": "markdown",
   "id": "4ceec1dc-8964-4e06-b8d2-982f6e576a5f",
   "metadata": {},
   "source": [
    "### EXERCICIOS APIS\n",
    "\n"
   ]
  },
  {
   "cell_type": "code",
   "execution_count": 2,
   "id": "2dd8eefe-48db-4e6e-8387-47b757b450aa",
   "metadata": {},
   "outputs": [],
   "source": [
    "#importa as librerias necesarias para traballar con apis \n"
   ]
  },
  {
   "cell_type": "code",
   "execution_count": 2,
   "id": "2bd27040-1e55-432e-b9f4-8fb53f25147c",
   "metadata": {},
   "outputs": [],
   "source": [
    "import requests"
   ]
  },
  {
   "cell_type": "code",
   "execution_count": null,
   "id": "c5f12e46-5a85-4a2f-8185-457ff7912469",
   "metadata": {},
   "outputs": [],
   "source": [
    "#vamos a consultar unha api sobre a predicción meteoroloxica\n",
    "#https://www.el-tiempo.net/api/json/v2/home"
   ]
  },
  {
   "cell_type": "code",
   "execution_count": null,
   "id": "139d0cfb-24db-4877-98fb-57cde5701606",
   "metadata": {},
   "outputs": [],
   "source": [
    "# Configura o endpoint\n",
    "# Verifica o estado da resposta e explica o tipo de codigo"
   ]
  },
  {
   "cell_type": "code",
   "execution_count": 7,
   "id": "4dd48b00-9ba0-4353-a959-14d0aea3df88",
   "metadata": {},
   "outputs": [
    {
     "data": {
      "text/plain": [
       "200"
      ]
     },
     "execution_count": 7,
     "metadata": {},
     "output_type": "execute_result"
    }
   ],
   "source": [
    "\n",
    "endpoint='https://www.el-tiempo.net/api/json/v2/home'\n",
    "response = requests.get(endpoint)\n",
    "response.status_code\n"
   ]
  },
  {
   "cell_type": "code",
   "execution_count": null,
   "id": "8258e7fc-6e8e-4f72-9e67-51ce9c6335f5",
   "metadata": {},
   "outputs": [],
   "source": [
    "#provoca que fallo na peticion "
   ]
  },
  {
   "cell_type": "code",
   "execution_count": 6,
   "id": "57008a1c-2590-4776-8db7-2cdd81f5b75e",
   "metadata": {},
   "outputs": [
    {
     "data": {
      "text/plain": [
       "404"
      ]
     },
     "execution_count": 6,
     "metadata": {},
     "output_type": "execute_result"
    }
   ],
   "source": [
    "endpoint = 'https://www.el-tiempo.net/api/json/v2/homes' #engadindo unha letra\n",
    "response = requests.get(endpoint)\n",
    "response.status_code"
   ]
  },
  {
   "cell_type": "code",
   "execution_count": 12,
   "id": "62d5e2af-cddb-4e03-9730-6c8cfd861dfa",
   "metadata": {},
   "outputs": [],
   "source": [
    "# Comproba o tipo de servidor que está detrás da API e o tipo de contido"
   ]
  },
  {
   "cell_type": "code",
   "execution_count": 12,
   "id": "853703c1-bd3c-4763-ab17-0f33362cab74",
   "metadata": {},
   "outputs": [
    {
     "data": {
      "text/plain": [
       "'application/json'"
      ]
     },
     "execution_count": 12,
     "metadata": {},
     "output_type": "execute_result"
    }
   ],
   "source": [
    "response.headers['Content-Type']"
   ]
  },
  {
   "cell_type": "code",
   "execution_count": 13,
   "id": "969a2e2a-675d-4ba9-8e98-b592401cd824",
   "metadata": {},
   "outputs": [
    {
     "data": {
      "text/plain": [
       "'Apache'"
      ]
     },
     "execution_count": 13,
     "metadata": {},
     "output_type": "execute_result"
    }
   ],
   "source": [
    "response.headers['Server']\n"
   ]
  },
  {
   "cell_type": "code",
   "execution_count": null,
   "id": "0af8f05c-ceac-4bb0-83bc-74a3e0394f2a",
   "metadata": {},
   "outputs": [],
   "source": [
    "#Consulta a superficie de Manrresa(Provincia de Barcelona) "
   ]
  },
  {
   "cell_type": "code",
   "execution_count": 27,
   "id": "f30f6639-a20d-4f67-994c-e26cba8815b4",
   "metadata": {},
   "outputs": [
    {
     "name": "stdout",
     "output_type": "stream",
     "text": [
      "Superficie 4164.4125\n"
     ]
    }
   ],
   "source": [
    "\n",
    "endpoint='https://www.el-tiempo.net/api/json/v2/provincias/08/municipios/08113'\n",
    "response_manrresa = requests.get(endpoint)\n",
    "s_marresa=response_manrresa.json()['municipio']['SUPERFICIE']\n",
    "\n",
    "print(\"Superficie {}\".format(s_marresa))\n"
   ]
  },
  {
   "cell_type": "code",
   "execution_count": null,
   "id": "f732c555-e1eb-4f19-9cf4-801e1b231542",
   "metadata": {},
   "outputs": [],
   "source": [
    "#compara con Alcala de Henares(Provincia de Madrid)"
   ]
  },
  {
   "cell_type": "code",
   "execution_count": 28,
   "id": "1014a038-7e3b-4576-a21d-7306b17251a4",
   "metadata": {},
   "outputs": [
    {
     "name": "stdout",
     "output_type": "stream",
     "text": [
      "Superficie 8772.1822\n"
     ]
    }
   ],
   "source": [
    "endpoint='https://www.el-tiempo.net/api/json/v2/provincias/28/municipios/28005'\n",
    "response_alcala = requests.get(endpoint)\n",
    "s_alcala=response_alcala.json()['municipio']['SUPERFICIE']\n",
    "print(\"Superficie {}\".format(s_alcala))"
   ]
  },
  {
   "cell_type": "code",
   "execution_count": null,
   "id": "c1618181-9b9e-4969-8433-ea9e3d1edf6b",
   "metadata": {},
   "outputs": [],
   "source": [
    "#Crea un dataFrame para mostrar os datos "
   ]
  },
  {
   "cell_type": "code",
   "execution_count": 33,
   "id": "9d5f56d8-44ee-4dad-86f9-694aaee70ebd",
   "metadata": {},
   "outputs": [
    {
     "data": {
      "text/html": [
       "<div>\n",
       "<style scoped>\n",
       "    .dataframe tbody tr th:only-of-type {\n",
       "        vertical-align: middle;\n",
       "    }\n",
       "\n",
       "    .dataframe tbody tr th {\n",
       "        vertical-align: top;\n",
       "    }\n",
       "\n",
       "    .dataframe thead th {\n",
       "        text-align: right;\n",
       "    }\n",
       "</style>\n",
       "<table border=\"1\" class=\"dataframe\">\n",
       "  <thead>\n",
       "    <tr style=\"text-align: right;\">\n",
       "      <th></th>\n",
       "      <th>Superficie</th>\n",
       "    </tr>\n",
       "  </thead>\n",
       "  <tbody>\n",
       "    <tr>\n",
       "      <th>0</th>\n",
       "      <td>4164.4125</td>\n",
       "    </tr>\n",
       "    <tr>\n",
       "      <th>1</th>\n",
       "      <td>8772.1822</td>\n",
       "    </tr>\n",
       "  </tbody>\n",
       "</table>\n",
       "</div>"
      ],
      "text/plain": [
       "   Superficie\n",
       "0   4164.4125\n",
       "1   8772.1822"
      ]
     },
     "execution_count": 33,
     "metadata": {},
     "output_type": "execute_result"
    }
   ],
   "source": [
    "superficies=[]\n",
    "superficies.append(s_marresa)\n",
    "superficies.append(s_alcala)\n",
    "import pandas as pd\n",
    "df = pd.DataFrame(superficies,columns = ['Superficie'])\n",
    "df"
   ]
  },
  {
   "cell_type": "code",
   "execution_count": null,
   "id": "4aebf1e3-ee1d-4f2b-96d0-d13c3e1966e3",
   "metadata": {},
   "outputs": [],
   "source": [
    "#Crear un dataFrame con las temperaturas del muncipio de Algadefe en la provincia de Leon"
   ]
  },
  {
   "cell_type": "code",
   "execution_count": 47,
   "id": "1e8f8617-4ea1-44b2-b914-a71374d59983",
   "metadata": {},
   "outputs": [
    {
     "data": {
      "text/html": [
       "<div>\n",
       "<style scoped>\n",
       "    .dataframe tbody tr th:only-of-type {\n",
       "        vertical-align: middle;\n",
       "    }\n",
       "\n",
       "    .dataframe tbody tr th {\n",
       "        vertical-align: top;\n",
       "    }\n",
       "\n",
       "    .dataframe thead th {\n",
       "        text-align: right;\n",
       "    }\n",
       "</style>\n",
       "<table border=\"1\" class=\"dataframe\">\n",
       "  <thead>\n",
       "    <tr style=\"text-align: right;\">\n",
       "      <th></th>\n",
       "      <th>Temperatura</th>\n",
       "    </tr>\n",
       "  </thead>\n",
       "  <tbody>\n",
       "    <tr>\n",
       "      <th>0</th>\n",
       "      <td>-3</td>\n",
       "    </tr>\n",
       "    <tr>\n",
       "      <th>1</th>\n",
       "      <td>-4</td>\n",
       "    </tr>\n",
       "    <tr>\n",
       "      <th>2</th>\n",
       "      <td>-5</td>\n",
       "    </tr>\n",
       "    <tr>\n",
       "      <th>3</th>\n",
       "      <td>-5</td>\n",
       "    </tr>\n",
       "    <tr>\n",
       "      <th>4</th>\n",
       "      <td>-5</td>\n",
       "    </tr>\n",
       "    <tr>\n",
       "      <th>5</th>\n",
       "      <td>-5</td>\n",
       "    </tr>\n",
       "    <tr>\n",
       "      <th>6</th>\n",
       "      <td>-4</td>\n",
       "    </tr>\n",
       "    <tr>\n",
       "      <th>7</th>\n",
       "      <td>-4</td>\n",
       "    </tr>\n",
       "    <tr>\n",
       "      <th>8</th>\n",
       "      <td>-3</td>\n",
       "    </tr>\n",
       "    <tr>\n",
       "      <th>9</th>\n",
       "      <td>0</td>\n",
       "    </tr>\n",
       "    <tr>\n",
       "      <th>10</th>\n",
       "      <td>3</td>\n",
       "    </tr>\n",
       "    <tr>\n",
       "      <th>11</th>\n",
       "      <td>6</td>\n",
       "    </tr>\n",
       "    <tr>\n",
       "      <th>12</th>\n",
       "      <td>7</td>\n",
       "    </tr>\n",
       "    <tr>\n",
       "      <th>13</th>\n",
       "      <td>8</td>\n",
       "    </tr>\n",
       "    <tr>\n",
       "      <th>14</th>\n",
       "      <td>9</td>\n",
       "    </tr>\n",
       "    <tr>\n",
       "      <th>15</th>\n",
       "      <td>8</td>\n",
       "    </tr>\n",
       "    <tr>\n",
       "      <th>16</th>\n",
       "      <td>6</td>\n",
       "    </tr>\n",
       "    <tr>\n",
       "      <th>17</th>\n",
       "      <td>5</td>\n",
       "    </tr>\n",
       "    <tr>\n",
       "      <th>18</th>\n",
       "      <td>2</td>\n",
       "    </tr>\n",
       "    <tr>\n",
       "      <th>19</th>\n",
       "      <td>-1</td>\n",
       "    </tr>\n",
       "    <tr>\n",
       "      <th>20</th>\n",
       "      <td>0</td>\n",
       "    </tr>\n",
       "    <tr>\n",
       "      <th>21</th>\n",
       "      <td>-1</td>\n",
       "    </tr>\n",
       "  </tbody>\n",
       "</table>\n",
       "</div>"
      ],
      "text/plain": [
       "   Temperatura\n",
       "0           -3\n",
       "1           -4\n",
       "2           -5\n",
       "3           -5\n",
       "4           -5\n",
       "5           -5\n",
       "6           -4\n",
       "7           -4\n",
       "8           -3\n",
       "9            0\n",
       "10           3\n",
       "11           6\n",
       "12           7\n",
       "13           8\n",
       "14           9\n",
       "15           8\n",
       "16           6\n",
       "17           5\n",
       "18           2\n",
       "19          -1\n",
       "20           0\n",
       "21          -1"
      ]
     },
     "execution_count": 47,
     "metadata": {},
     "output_type": "execute_result"
    }
   ],
   "source": [
    "\n",
    "endpoint='https://www.el-tiempo.net/api/json/v2/provincias/24/municipios/24002'\n",
    "response=requests.get(endpoint)\n",
    "temperaturas=response.json()['pronostico']['hoy']['temperatura']\n",
    "temp=[]\n",
    "for t in temperaturas:\n",
    "    temp.append(t)\n",
    "    \n",
    "import pandas as pd\n",
    "df = pd.DataFrame(temp,columns = ['Temperatura'])\n",
    "df\n",
    "\n"
   ]
  },
  {
   "cell_type": "code",
   "execution_count": null,
   "id": "6079c032-1b94-4ee8-809c-09a86dcebdb5",
   "metadata": {},
   "outputs": [],
   "source": [
    "#vamos consultar a api da nasa \n",
    "#url  = 'https://api.nasa.gov/planetary/apod?'\n",
    "#¿Esta api require autentificación? Mostra o mensaje de error "
   ]
  },
  {
   "cell_type": "code",
   "execution_count": 33,
   "id": "a2accc6b-d0bd-4859-afd6-42e7504caf5c",
   "metadata": {},
   "outputs": [
    {
     "data": {
      "text/plain": [
       "{'error': {'code': 'API_KEY_MISSING',\n",
       "  'message': 'No api_key was supplied. Get one at https://api.nasa.gov:443'}}"
      ]
     },
     "execution_count": 33,
     "metadata": {},
     "output_type": "execute_result"
    }
   ],
   "source": [
    "url='https://api.nasa.gov/planetary/apod?'\n",
    "response = requests.get(url)\n",
    "reponse.json()\n"
   ]
  },
  {
   "cell_type": "code",
   "execution_count": null,
   "id": "8dc868b6-805d-4ec6-bf66-16cbda7f20aa",
   "metadata": {},
   "outputs": [],
   "source": [
    "#Accede o total de horas de sol requeridas para Marte \n",
    "#url='https://api.nasa.gov/insight_weather/?"
   ]
  },
  {
   "cell_type": "code",
   "execution_count": 28,
   "id": "8f9da18f-0d4a-459c-a110-b23fe768efc2",
   "metadata": {},
   "outputs": [
    {
     "data": {
      "text/plain": [
       "18"
      ]
     },
     "execution_count": 28,
     "metadata": {},
     "output_type": "execute_result"
    }
   ],
   "source": [
    "\n",
    "url  = 'https://api.nasa.gov/insight_weather/?'\n",
    "API_KEY = 'De8uYtzKmeEy7qbfOvVtA82WVFTbGfMkWd1ZNUYP'\n",
    "payload = {'api_key':API_KEY, 'feedtype':'json&ver=1.0'}\n",
    "response = requests.get(url, params = payload )\n",
    "response.json()['validity_checks']['sol_hours_required']"
   ]
  },
  {
   "cell_type": "code",
   "execution_count": null,
   "id": "8c67e639-ed26-4541-8cfe-2503b6e7b5b8",
   "metadata": {},
   "outputs": [],
   "source": [
    "#Usa a api da NASA para ver nunha determinada datas o acercamento de asteroides de entre 2021/01/01 e o 2021/01/07 obten o absolute_magnitude_h para ese intervalo de datas na hora cero\n",
    "\n",
    "#url:https://api.nasa.gov/neo/rest/v1/feed?start_date=START_DATE&end_date=END_DATE&api_key=API_KEY "
   ]
  },
  {
   "cell_type": "code",
   "execution_count": 10,
   "id": "c1da9b64-4f05-4117-8e13-e6027070ff26",
   "metadata": {},
   "outputs": [
    {
     "name": "stdout",
     "output_type": "stream",
     "text": [
      "Para 2021-01-02 a magnitude absolta e: 20.6\n",
      "Para 2021-01-03 a magnitude absolta e: 21.02\n",
      "Para 2021-01-01 a magnitude absolta e: 24.0\n",
      "Para 2021-01-06 a magnitude absolta e: 19.7\n",
      "Para 2021-01-07 a magnitude absolta e: 15.02\n",
      "Para 2021-01-04 a magnitude absolta e: 22.0\n",
      "Para 2021-01-05 a magnitude absolta e: 18.99\n"
     ]
    }
   ],
   "source": [
    "url='https://api.nasa.gov/neo/rest/v1/feed?start_date=2021-01-01&end_date=2021-01-07'\n",
    "API_KEY = 'De8uYtzKmeEy7qbfOvVtA82WVFTbGfMkWd1ZNUYP'\n",
    "payload = {'api_key':API_KEY}\n",
    "response = requests.get(url, params = payload )\n",
    "response.json()['near_earth_objects']['2021-01-02'][0]['absolute_magnitude_h']\n",
    "objetos=response.json()['near_earth_objects']\n",
    "fechas=[]\n",
    "for obj in objetos:\n",
    "    \n",
    "    mang=response.json()['near_earth_objects'][obj][0]['absolute_magnitude_h']\n",
    "    print(\"Para {} a magnitude absolta e: {}\".format(obj,mang))\n",
    "    fechas.append([obj,mang])\n",
    "\n"
   ]
  },
  {
   "cell_type": "code",
   "execution_count": null,
   "id": "d7adbeb9-4eff-40a2-97c7-0862532e1e23",
   "metadata": {},
   "outputs": [],
   "source": []
  },
  {
   "cell_type": "code",
   "execution_count": null,
   "id": "be71e23c-d15f-4ee8-a45a-f9a846b87513",
   "metadata": {},
   "outputs": [],
   "source": [
    "#crea un DataFrame cos datos anteriores"
   ]
  },
  {
   "cell_type": "code",
   "execution_count": 4,
   "id": "15d9a20b-89c6-4064-84b2-d21cac696863",
   "metadata": {},
   "outputs": [
    {
     "data": {
      "text/html": [
       "<div>\n",
       "<style scoped>\n",
       "    .dataframe tbody tr th:only-of-type {\n",
       "        vertical-align: middle;\n",
       "    }\n",
       "\n",
       "    .dataframe tbody tr th {\n",
       "        vertical-align: top;\n",
       "    }\n",
       "\n",
       "    .dataframe thead th {\n",
       "        text-align: right;\n",
       "    }\n",
       "</style>\n",
       "<table border=\"1\" class=\"dataframe\">\n",
       "  <thead>\n",
       "    <tr style=\"text-align: right;\">\n",
       "      <th></th>\n",
       "      <th>Magnitud absoluta</th>\n",
       "    </tr>\n",
       "    <tr>\n",
       "      <th>Fecha</th>\n",
       "      <th></th>\n",
       "    </tr>\n",
       "  </thead>\n",
       "  <tbody>\n",
       "    <tr>\n",
       "      <th>2021-01-02</th>\n",
       "      <td>20.60</td>\n",
       "    </tr>\n",
       "    <tr>\n",
       "      <th>2021-01-03</th>\n",
       "      <td>21.02</td>\n",
       "    </tr>\n",
       "    <tr>\n",
       "      <th>2021-01-01</th>\n",
       "      <td>24.00</td>\n",
       "    </tr>\n",
       "    <tr>\n",
       "      <th>2021-01-06</th>\n",
       "      <td>19.70</td>\n",
       "    </tr>\n",
       "    <tr>\n",
       "      <th>2021-01-07</th>\n",
       "      <td>15.02</td>\n",
       "    </tr>\n",
       "    <tr>\n",
       "      <th>2021-01-04</th>\n",
       "      <td>22.00</td>\n",
       "    </tr>\n",
       "    <tr>\n",
       "      <th>2021-01-05</th>\n",
       "      <td>18.99</td>\n",
       "    </tr>\n",
       "  </tbody>\n",
       "</table>\n",
       "</div>"
      ],
      "text/plain": [
       "            Magnitud absoluta\n",
       "Fecha                        \n",
       "2021-01-02              20.60\n",
       "2021-01-03              21.02\n",
       "2021-01-01              24.00\n",
       "2021-01-06              19.70\n",
       "2021-01-07              15.02\n",
       "2021-01-04              22.00\n",
       "2021-01-05              18.99"
      ]
     },
     "execution_count": 4,
     "metadata": {},
     "output_type": "execute_result"
    }
   ],
   "source": [
    "import pandas as pd\n",
    "df = pd.DataFrame(fechas,columns = ['Fecha','Magnitud absoluta'])\n",
    "df = df.set_index('Fecha')\n",
    "\n",
    "df"
   ]
  },
  {
   "cell_type": "code",
   "execution_count": null,
   "id": "ac7a2ee5-8e05-4caf-a656-fded219bcad4",
   "metadata": {},
   "outputs": [],
   "source": []
  },
  {
   "cell_type": "code",
   "execution_count": null,
   "id": "1d8d9502-b583-42fd-9e65-49a7a96342f7",
   "metadata": {},
   "outputs": [],
   "source": []
  },
  {
   "cell_type": "code",
   "execution_count": null,
   "id": "9962ac5c-96c0-4815-9203-3582245f5fbd",
   "metadata": {},
   "outputs": [],
   "source": []
  },
  {
   "cell_type": "code",
   "execution_count": null,
   "id": "80adcf5d-353f-40d0-93e1-84468c270b19",
   "metadata": {},
   "outputs": [],
   "source": []
  },
  {
   "cell_type": "code",
   "execution_count": null,
   "id": "29da7977-1ee8-432a-8597-e42158cf917b",
   "metadata": {},
   "outputs": [],
   "source": []
  },
  {
   "cell_type": "code",
   "execution_count": 1,
   "id": "88d1b7bb-8a19-42d1-a1be-b4b0fafc8991",
   "metadata": {},
   "outputs": [],
   "source": []
  },
  {
   "cell_type": "code",
   "execution_count": 2,
   "id": "8ef0c313-cac4-4c7f-80a1-f5b8bf09e063",
   "metadata": {},
   "outputs": [],
   "source": []
  },
  {
   "cell_type": "code",
   "execution_count": null,
   "id": "a72657be-eef3-4b2e-9ddf-f22f1adb22c4",
   "metadata": {},
   "outputs": [],
   "source": []
  },
  {
   "cell_type": "code",
   "execution_count": null,
   "id": "e9915a2e-e6d6-4ffa-9436-5dc706acb57b",
   "metadata": {},
   "outputs": [],
   "source": []
  },
  {
   "cell_type": "code",
   "execution_count": null,
   "id": "c16232a2-d28a-4908-83e7-2e14451e4035",
   "metadata": {},
   "outputs": [],
   "source": []
  },
  {
   "cell_type": "code",
   "execution_count": null,
   "id": "eec110fa-38da-47da-9bf3-bc195eda3b00",
   "metadata": {},
   "outputs": [],
   "source": []
  },
  {
   "cell_type": "code",
   "execution_count": null,
   "id": "6691d17a-ec90-4343-897d-2dbb31559a3e",
   "metadata": {},
   "outputs": [],
   "source": []
  },
  {
   "cell_type": "code",
   "execution_count": null,
   "id": "df7c522e-bc74-4de7-83c0-9e76596efc23",
   "metadata": {},
   "outputs": [],
   "source": []
  },
  {
   "cell_type": "code",
   "execution_count": null,
   "id": "1fb55d62-1932-42bf-80c6-77df6e8f092a",
   "metadata": {},
   "outputs": [],
   "source": []
  },
  {
   "cell_type": "code",
   "execution_count": null,
   "id": "e292bfb0-68ae-4893-b1cb-abff7f9769a0",
   "metadata": {},
   "outputs": [],
   "source": []
  },
  {
   "cell_type": "code",
   "execution_count": null,
   "id": "a0f5ec36-b5c1-4a40-b570-b84c0d797f1b",
   "metadata": {},
   "outputs": [],
   "source": []
  },
  {
   "cell_type": "code",
   "execution_count": null,
   "id": "488d4529-3884-4b54-9ca3-73b1430446a4",
   "metadata": {},
   "outputs": [],
   "source": []
  },
  {
   "cell_type": "code",
   "execution_count": null,
   "id": "8b327370-8806-42ef-a3f1-5747997da4fb",
   "metadata": {},
   "outputs": [],
   "source": []
  },
  {
   "cell_type": "code",
   "execution_count": null,
   "id": "efa11817-b134-4f24-a7a9-dd582dea965c",
   "metadata": {},
   "outputs": [],
   "source": []
  },
  {
   "cell_type": "code",
   "execution_count": null,
   "id": "aa542f9c-7bf4-4770-be0e-d9ff3b098308",
   "metadata": {},
   "outputs": [],
   "source": []
  },
  {
   "cell_type": "code",
   "execution_count": null,
   "id": "55c7ac27-9465-43ae-bbcd-4a12f06b7ba6",
   "metadata": {},
   "outputs": [],
   "source": []
  },
  {
   "cell_type": "code",
   "execution_count": null,
   "id": "80be93f9-00e1-4cd4-9fa5-1260fa008193",
   "metadata": {},
   "outputs": [],
   "source": [
    "\n"
   ]
  },
  {
   "cell_type": "code",
   "execution_count": null,
   "id": "d050b1e3-f491-440b-99ee-d2f4aece9b2b",
   "metadata": {},
   "outputs": [],
   "source": []
  },
  {
   "cell_type": "code",
   "execution_count": null,
   "id": "5c2e45f8-3293-422f-8601-a4964800f98d",
   "metadata": {},
   "outputs": [],
   "source": []
  },
  {
   "cell_type": "code",
   "execution_count": null,
   "id": "12ed61bc-4304-4d70-9921-8d1af67ff587",
   "metadata": {},
   "outputs": [],
   "source": [
    "# Recapitulando:\n",
    "# Query String Parámeters para configurar peticións GET\n",
    "# Request Headers para configurar peticións GET\n",
    "# Autenticación mediante parámetros\n",
    "# Autenticación mediante headers"
   ]
  }
 ],
 "metadata": {
  "kernelspec": {
   "display_name": "Python 3 (ipykernel)",
   "language": "python",
   "name": "python3"
  },
  "language_info": {
   "codemirror_mode": {
    "name": "ipython",
    "version": 3
   },
   "file_extension": ".py",
   "mimetype": "text/x-python",
   "name": "python",
   "nbconvert_exporter": "python",
   "pygments_lexer": "ipython3",
   "version": "3.9.7"
  }
 },
 "nbformat": 4,
 "nbformat_minor": 5
}
